{
 "cells": [
  {
   "cell_type": "code",
   "execution_count": null,
   "id": "cdd0cc51-69ce-44b9-b36c-44bf5d267a68",
   "metadata": {},
   "outputs": [],
   "source": [
    "#### Week 2, Assignment C1: \n",
    "### Exploring some Crowdfunding Data with Pandas\n",
    "\n",
    "In this notebook we will aim to explore a few key activities using Pandas\n",
    "\n",
    "Please complete the lines bellow where you see \"# TODO\"\n"
   ]
  },
  {
   "cell_type": "code",
   "execution_count": null,
   "id": "1a32addc-8c6f-4c44-817a-fd3d3912e466",
   "metadata": {},
   "outputs": [],
   "source": [
    "# Objective 1.\n",
    "#Use this cell to import your packages\n",
    "import pandas"
   ]
  },
  {
   "cell_type": "code",
   "execution_count": null,
   "id": "918869d4-0051-40d9-93cc-c10315285a47",
   "metadata": {},
   "outputs": [],
   "source": [
    "# Objective 2.\n",
    "# Complete the following cell using pandas.read_csv() \n",
    "# and the file included in this assignment.\n",
    "# Tip: set index_col to 'created_at' and parse_dates=True\n",
    "\n",
    "df = pandas.read_csv('kickstarter_sample.csv',\n",
    "                    index_col='created_at',\n",
    "                    parse_dates=True)\n",
    "\n",
    "\n",
    "assert len(df)>0\n",
    "# if you get an error, try again\n"
   ]
  },
  {
   "cell_type": "code",
   "execution_count": null,
   "id": "965dd054-f01b-41d7-a635-3d9c8621abbd",
   "metadata": {},
   "outputs": [],
   "source": [
    "# Objective 3.\n",
    "# Use this cell to examine the data you've loaded, specifically note the headers and index\n",
    "df"
   ]
  },
  {
   "cell_type": "code",
   "execution_count": null,
   "id": "8922188a-03b6-4335-822b-36af65f4243c",
   "metadata": {},
   "outputs": [],
   "source": [
    "# Objective 4.\n",
    "# Create a slice from the years 2018 to 2021\n",
    "\n",
    "df = df.loc['2018':'2021']\n",
    "df"
   ]
  },
  {
   "cell_type": "code",
   "execution_count": null,
   "id": "17f234db-e3ef-429c-bbd4-6f197fa34d09",
   "metadata": {},
   "outputs": [],
   "source": [
    "# Objective 5.\n",
    "# slice into the following collumns\n",
    "# 'backers_count','blurb','country','usd_pledged','state'\n",
    "\n",
    "df[['backers_count','blurb','country','usd_pledged','state']]\n"
   ]
  },
  {
   "cell_type": "code",
   "execution_count": null,
   "id": "f7c03307-58e4-4a69-b205-b2dc3d6978c2",
   "metadata": {},
   "outputs": [],
   "source": [
    "# Objective 6.\n",
    "# Use integer-location based indexing to exclude the last 3 row of data\n",
    "\n",
    "df = df.iloc[0:-3]\n",
    "df"
   ]
  },
  {
   "cell_type": "code",
   "execution_count": null,
   "id": "30ef00c1-bc26-4a7b-ba18-7fdae1d3fb9c",
   "metadata": {},
   "outputs": [],
   "source": [
    "# Objective 7.\n",
    "# Inside of your slice, count the total number of backers\n",
    "\n",
    "total_backers = df.backers_count.sum()\n",
    "total_backers"
   ]
  },
  {
   "cell_type": "code",
   "execution_count": null,
   "id": "932f0bda-d28e-4583-887a-a163d65e4bf8",
   "metadata": {},
   "outputs": [],
   "source": [
    "# Objective 8.\n",
    "# Use a mask to split the DataFrame into two parts and assign each to a variable.\n",
    "# Here we will use state.\n",
    "# Examine the state variable above.\n",
    "# and create one variable for on-going vs concluded projects.\n",
    "\n",
    "ongoing_df = df[df.state=='live']\n",
    "    \n",
    "concluded_df = df[df.state=='successful']\n"
   ]
  },
  {
   "cell_type": "code",
   "execution_count": null,
   "id": "fe3ff67f-9222-4849-a352-ef908896b2f8",
   "metadata": {},
   "outputs": [],
   "source": [
    "# Objective 9.\n",
    "# Examine on-going projects\n",
    "ongoing_df"
   ]
  },
  {
   "cell_type": "code",
   "execution_count": null,
   "id": "1afbcfe6-afe4-4049-bc41-cc8090181aa5",
   "metadata": {},
   "outputs": [],
   "source": [
    "# Objective 10.\n",
    "# Examine concluded projects\n",
    "concluded_df "
   ]
  },
  {
   "cell_type": "code",
   "execution_count": null,
   "id": "0a44119c-2aa5-4127-b655-c6f5dacd820d",
   "metadata": {},
   "outputs": [],
   "source": [
    "# Objective 11.\n",
    "# Use the above DataFrames to answer the following\n",
    "\n",
    "# On-going average funding\n",
    "ongoing_avg_funding = ongoing_df.usd_pledged.mean()\n",
    "\n",
    "# Concluded average funding\n",
    "concluded_avg_funding = concluded_df.usd_pledged.mean()\n",
    "\n",
    "# On-going total backers\n",
    "ongoing_total_backers = ongoing_df['backers_count'].sum()\n",
    "\n",
    "# Concluded total backers\n",
    "concluded_total_backers = concluded_df['backers_count'].sum()"
   ]
  },
  {
   "cell_type": "code",
   "execution_count": null,
   "id": "033ac727-cde8-4718-82c2-cf9e0eae12c4",
   "metadata": {},
   "outputs": [],
   "source": [
    "# Objective 12.\n",
    "print(f\"The average funding for live projects: {ongoing_avg_funding}\")\n",
    "print(f\"The average funding for successful projects: {concluded_avg_funding}\")\n",
    "\n",
    "print(f\"The total number of backers for live projects: {ongoing_total_backers}\")\n",
    "print(f\"The total number of backers for successful projects: {concluded_total_backers}\")"
   ]
  },
  {
   "cell_type": "code",
   "execution_count": 75,
   "id": "5f9daf2e-a5bc-46db-a0b4-9c3993179a3c",
   "metadata": {},
   "outputs": [
    {
     "data": {
      "text/plain": [
       "<matplotlib.legend.Legend at 0x11f5f25e0>"
      ]
     },
     "execution_count": 75,
     "metadata": {},
     "output_type": "execute_result"
    },
    {
     "data": {
      "image/png": "[encoded data removed]",
      "text/plain": [
       "<Figure size 432x288 with 1 Axes>"
      ]
     },
     "metadata": {
      "needs_background": "light"
     },
     "output_type": "display_data"
    }
   ],
   "source": [
    "# Objective 13.\n",
    "# Using pandas helper methods, plot historgrams for each country.\n",
    "# Do not change the order of these\n",
    "\n",
    "concluded_df['country'].hist()\n",
    "ax =ongoing_df['country'].hist()\n",
    "ax.legend(['concluded','ongoing'])"
   ]
  },
  {
   "cell_type": "code",
   "execution_count": null,
   "id": "d0f23999-444c-4804-ad5a-8ca2bcbfd036",
   "metadata": {},
   "outputs": [],
   "source": []
  },
  {
   "cell_type": "code",
   "execution_count": null,
   "id": "b801d972-945b-4dea-949b-c3a233fe9c26",
   "metadata": {},
   "outputs": [],
   "source": [
    "## Congratulations! You've completed this assignment 🎉"
   ]
  }
 ],
 "metadata": {
  "kernelspec": {
   "display_name": "Python 3",
   "language": "python",
   "name": "python3"
  },
  "language_info": {
   "codemirror_mode": {
    "name": "ipython",
    "version": 3
   },
   "file_extension": ".py",
   "mimetype": "text/x-python",
   "name": "python",
   "nbconvert_exporter": "python",
   "pygments_lexer": "ipython3",
   "version": "3.8.8"
  }
 },
 "nbformat": 4,
 "nbformat_minor": 5
}
